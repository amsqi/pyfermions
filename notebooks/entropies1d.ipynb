{
 "cells": [
  {
   "cell_type": "code",
   "execution_count": 1,
   "metadata": {},
   "outputs": [],
   "source": [
    "%matplotlib inline\n",
    "import numpy as np\n",
    "import pandas as pd\n",
    "import scipy\n",
    "import scipy.special\n",
    "import matplotlib.pyplot as plt\n",
    "plt.style.use('default')\n",
    "from pyfermions import *"
   ]
  },
  {
   "cell_type": "markdown",
   "metadata": {},
   "source": [
    "# Entropy"
   ]
  },
  {
   "cell_type": "code",
   "execution_count": 2,
   "metadata": {},
   "outputs": [
    {
     "name": "stdout",
     "output_type": "stream",
     "text": [
      "K=1, L=1, M=10: computing covariance matrix for subsystem size 256...\n",
      "K=1, L=1, M=10: computing entropies...\n",
      "K=1, L=1, M=10: done\n",
      "K=3, L=3, M=10: computing covariance matrix for subsystem size 256...\n",
      "K=3, L=3, M=10: computing entropies...\n",
      "K=3, L=3, M=10: done\n"
     ]
    }
   ],
   "source": [
    "def h(p):\n",
    "    p = np.maximum(0, np.minimum(1, p))\n",
    "    return scipy.special.entr(p) + scipy.special.entr(1 - p)\n",
    "\n",
    "\n",
    "def entropy(cov):\n",
    "    n = np.linalg.eigvalsh(cov)\n",
    "    return np.sum(h(n))\n",
    "\n",
    "\n",
    "# R = system size\n",
    "# S = entropy\n",
    "data = {'K': [], 'L': [], 'M': [], 'R': [], 'S': []}\n",
    "\n",
    "\n",
    "def compute_entropies(K, L, M=15, R_max=256):\n",
    "    mera = mera1d.selesnick(K, L)\n",
    "\n",
    "    print(\n",
    "        f'K={K}, L={L}, M={M}: computing covariance matrix for subsystem size {R_max}...'\n",
    "    )\n",
    "    cov = mera.covariance(R_max, M)\n",
    "\n",
    "    print(f'K={K}, L={L}, M={M}: computing entropies...')\n",
    "    for R in range(1, R_max + 1):\n",
    "        S = entropy(cov[:R, :R])\n",
    "        data['K'].append(K)\n",
    "        data['L'].append(L)\n",
    "        data['M'].append(M)\n",
    "        data['R'].append(R)\n",
    "        data['S'].append(S)\n",
    "    print(f'K={K}, L={L}, M={M}: done')\n",
    "\n",
    "\n",
    "compute_entropies(1, 1, 10, 256)\n",
    "compute_entropies(3, 3, 10, 256)\n",
    "\n",
    "entropies = pd.DataFrame(data)"
   ]
  },
  {
   "cell_type": "markdown",
   "metadata": {},
   "source": [
    "Collect bond dimensions:"
   ]
  },
  {
   "cell_type": "code",
   "execution_count": 3,
   "metadata": {},
   "outputs": [],
   "source": [
    "entropies['chi'] = 2**(entropies['K'] + entropies['L'])"
   ]
  },
  {
   "cell_type": "markdown",
   "metadata": {},
   "source": [
    "Plot together with log fit:"
   ]
  },
  {
   "cell_type": "code",
   "execution_count": 6,
   "metadata": {},
   "outputs": [
    {
     "name": "stdout",
     "output_type": "stream",
     "text": [
      "0.389570267896 0.697883864348\n",
      "0.333273273114 0.727373066344\n"
     ]
    },
    {
     "data": {
      "image/png": "[encoded data removed]",
      "text/plain": [
       "<matplotlib.figure.Figure at 0x113a0c208>"
      ]
     },
     "metadata": {},
     "output_type": "display_data"
    }
   ],
   "source": [
    "plt.figure(figsize=(3.2, 4.8))\n",
    "for chi, data in entropies.groupby(['chi']):\n",
    "    #if chi == 4: continue\n",
    "    R = data['R']\n",
    "    S = data['S']\n",
    "    plt.scatter(R[::8], S[::8], marker='+', label=f'$\\chi={chi}$')\n",
    "\n",
    "    # A log(R) + B = S\n",
    "    A, B = np.polyfit(np.log(R), S, 1)\n",
    "    plt.plot(R, A * np.log(R) + B, label=f'$c={A:.2}\\log(R) + {B:.2}$')\n",
    "    print(A, B)\n",
    "\n",
    "plt.legend()\n",
    "plt.xlabel('subsystem size', fontsize=14)\n",
    "plt.ylabel('entropy', fontsize=14)\n",
    "\n",
    "plt.savefig('entropies1d.pdf', bbox_inches='tight')"
   ]
  },
  {
   "cell_type": "markdown",
   "metadata": {},
   "source": [
    "Cardy tells us that $S(R) = \\frac c3 \\ln \\frac\\ell a + c_1'$."
   ]
  },
  {
   "cell_type": "code",
   "execution_count": 7,
   "metadata": {},
   "outputs": [
    {
     "data": {
      "text/plain": [
       "0.99981981934109676"
      ]
     },
     "execution_count": 7,
     "metadata": {},
     "output_type": "execute_result"
    }
   ],
   "source": [
    "# S(R) = A * np.log(R) + B\n",
    "c = A * 3\n",
    "c"
   ]
  },
  {
   "cell_type": "markdown",
   "metadata": {},
   "source": [
    "This is indeed very close to what we expect ($c=1$)."
   ]
  },
  {
   "cell_type": "code",
   "execution_count": null,
   "metadata": {},
   "outputs": [],
   "source": []
  }
 ],
 "metadata": {
  "kernelspec": {
   "display_name": "Python 3",
   "language": "python",
   "name": "python3"
  },
  "language_info": {
   "codemirror_mode": {
    "name": "ipython",
    "version": 3
   },
   "file_extension": ".py",
   "mimetype": "text/x-python",
   "name": "python",
   "nbconvert_exporter": "python",
   "pygments_lexer": "ipython3",
   "version": "3.6.2"
  }
 },
 "nbformat": 4,
 "nbformat_minor": 2
}
